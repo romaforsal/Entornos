{
  "nbformat": 4,
  "nbformat_minor": 0,
  "metadata": {
    "colab": {
      "provenance": [],
      "authorship_tag": "ABX9TyPOrVPC+83mSIrduPYAvbcL",
      "include_colab_link": true
    },
    "kernelspec": {
      "name": "python3",
      "display_name": "Python 3"
    },
    "language_info": {
      "name": "python"
    }
  },
  "cells": [
    {
      "cell_type": "markdown",
      "metadata": {
        "id": "view-in-github",
        "colab_type": "text"
      },
      "source": [
        "<a href=\"https://colab.research.google.com/github/romaforsal/Entornos/blob/main/Keytool.ipynb\" target=\"_parent\"><img src=\"https://colab.research.google.com/assets/colab-badge.svg\" alt=\"Open In Colab\"/></a>"
      ]
    },
    {
      "cell_type": "code",
      "execution_count": 1,
      "metadata": {
        "id": "gvMQQxGPhlsZ",
        "colab": {
          "base_uri": "https://localhost:8080/"
        },
        "outputId": "7742a588-9756-4317-e6d7-02e1e41c4d41"
      },
      "outputs": [
        {
          "output_type": "stream",
          "name": "stdout",
          "text": [
            "Overwriting pykeytool.py\n"
          ]
        }
      ],
      "source": [
        "%%writefile pykeytool.py\n",
        "# keeytool_sim.py\n",
        "import argparse\n",
        "import json\n",
        "import base64\n",
        "import os\n",
        "from getpass import getpass\n",
        "from cryptography.hazmat.primitives import hashes, serialization\n",
        "from cryptography.hazmat.primitives.asymmetric import rsa\n",
        "from cryptography import x509\n",
        "from cryptography.x509.oid import NameOID\n",
        "\n",
        "# ============================================\n",
        "# Función para pedir contraseña con confirmación y mínimo 6 caracteres\n",
        "# ============================================\n",
        "def pedir_contrasena(mensaje: str) -> str:\n",
        "    while True:\n",
        "        p1 = getpass(mensaje)\n",
        "        if len(p1) < 6:\n",
        "            print(\"❌ La contraseña debe tener al menos 6 caracteres.\\n\")\n",
        "            continue\n",
        "        p2 = getpass(\"Vuelve a introducir la contraseña: \")\n",
        "        if p1 != p2:\n",
        "            print(\"❌ Las contraseñas no coinciden. Intenta de nuevo.\\n\")\n",
        "        else:\n",
        "            return p1\n",
        "\n",
        "# ============================================\n",
        "# Comando: genkey\n",
        "# ============================================\n",
        "def genkey(args):\n",
        "    keystore_file = args.keystore\n",
        "    alias = args.alias\n",
        "    dname = args.dname or f\"CN={alias}\"\n",
        "\n",
        "    # Cargar o crear keystore\n",
        "    if os.path.exists(keystore_file):\n",
        "        with open(keystore_file, \"r\") as f:\n",
        "            keystore = json.load(f)\n",
        "        print(f\"📦 Keystore '{keystore_file}' cargado.\")\n",
        "        ks_pass_input = getpass(\"Introduce la contraseña del keystore: \")\n",
        "        stored_ks_pass = base64.b64decode(keystore.get(\"_keystore_password\", \"\").encode()).decode()\n",
        "        if ks_pass_input != stored_ks_pass:\n",
        "            print(\"❌ Contraseña del keystore incorrecta.\")\n",
        "            return\n",
        "        ks_pass = ks_pass_input\n",
        "    else:\n",
        "        print(f\"📦 Creando nuevo keystore: '{keystore_file}'\")\n",
        "        ks_pass = pedir_contrasena(\"Crea una contraseña para el keystore: \")\n",
        "        keystore = {}  # Inicializar nuevo keystore\n",
        "\n",
        "    # Contraseña de la clave\n",
        "    key_pass = pedir_contrasena(\"Introduce la contraseña de la clave privada: \")\n",
        "\n",
        "    # Encriptar contraseñas en Base64\n",
        "    ks_pass_enc = base64.b64encode(ks_pass.encode()).decode()\n",
        "    key_pass_enc = base64.b64encode(key_pass.encode()).decode()\n",
        "\n",
        "    # Generar par de claves RSA\n",
        "    print(\"🔑 Generando par de claves RSA...\")\n",
        "    private_key = rsa.generate_private_key(public_exponent=65537, key_size=args.keysize)\n",
        "    public_key = private_key.public_key()\n",
        "\n",
        "    # Convertir a PEM y Base64\n",
        "    priv_b64 = base64.b64encode(\n",
        "        private_key.private_bytes(\n",
        "            serialization.Encoding.PEM,\n",
        "            serialization.PrivateFormat.TraditionalOpenSSL,\n",
        "            serialization.NoEncryption()\n",
        "        )\n",
        "    ).decode(\"utf-8\")\n",
        "\n",
        "    pub_b64 = base64.b64encode(\n",
        "        public_key.public_bytes(\n",
        "            serialization.Encoding.PEM,\n",
        "            serialization.PublicFormat.SubjectPublicKeyInfo\n",
        "        )\n",
        "    ).decode(\"utf-8\")\n",
        "\n",
        "    # Guardar en keystore\n",
        "    keystore[\"_keystore_password\"] = ks_pass_enc\n",
        "    keystore[alias] = {\n",
        "        \"dname\": dname,\n",
        "        \"key_password\": key_pass_enc,\n",
        "        \"private_key\": priv_b64,\n",
        "        \"public_key\": pub_b64\n",
        "    }\n",
        "\n",
        "    with open(keystore_file, \"w\") as f:\n",
        "        json.dump(keystore, f, indent=4)\n",
        "\n",
        "    print(f\"✅ Clave '{alias}' generada y almacenada correctamente en '{keystore_file}'.\")\n",
        "\n",
        "# ============================================\n",
        "# Comando: certreq\n",
        "# ============================================\n",
        "def certreq(args):\n",
        "    keystore_file = args.keystore\n",
        "    alias = args.alias\n",
        "\n",
        "    if not os.path.exists(keystore_file):\n",
        "        print(\"❌ El keystore no existe.\")\n",
        "        return\n",
        "\n",
        "    with open(keystore_file, \"r\") as f:\n",
        "        keystore = json.load(f)\n",
        "\n",
        "    # Verificar contraseña del keystore\n",
        "    ks_pass_input = getpass(\"Introduce la contraseña del keystore: \")\n",
        "    stored_ks_pass = base64.b64decode(keystore[\"_keystore_password\"]).decode()\n",
        "    if ks_pass_input != stored_ks_pass:\n",
        "        print(\"❌ Contraseña del keystore incorrecta.\")\n",
        "        return\n",
        "\n",
        "    if alias not in keystore:\n",
        "        print(\"❌ Alias no encontrado en el keystore.\")\n",
        "        return\n",
        "\n",
        "    # Verificar contraseña de la clave\n",
        "    key_pass_input = getpass(\"Introduce la contraseña de la clave privada: \")\n",
        "    stored_key_pass = base64.b64decode(keystore[alias][\"key_password\"]).decode()\n",
        "    if key_pass_input != stored_key_pass:\n",
        "        print(\"❌ Contraseña de la clave incorrecta.\")\n",
        "        return\n",
        "\n",
        "    # Recuperar la clave privada\n",
        "    priv_pem = base64.b64decode(keystore[alias][\"private_key\"].encode(\"utf-8\"))\n",
        "    private_key = serialization.load_pem_private_key(priv_pem, password=None)\n",
        "\n",
        "    # Crear CSR\n",
        "    subject = x509.Name([x509.NameAttribute(NameOID.COMMON_NAME, keystore[alias][\"dname\"])])\n",
        "    csr = x509.CertificateSigningRequestBuilder().subject_name(subject).sign(private_key, hashes.SHA256())\n",
        "\n",
        "    out_file = args.out or f\"{alias}.csr.pem\"\n",
        "    with open(out_file, \"wb\") as f:\n",
        "        f.write(csr.public_bytes(serialization.Encoding.PEM))\n",
        "\n",
        "    print(f\"✅ CSR generado correctamente y guardado en '{out_file}'.\")\n",
        "\n",
        "# ============================================\n",
        "# Comando: delete\n",
        "# ============================================\n",
        "def delete_keystore(args):\n",
        "    keystore_file = args.keystore\n",
        "    if not os.path.exists(keystore_file):\n",
        "        print(\"❌ El keystore no existe.\")\n",
        "        return\n",
        "\n",
        "    confirm = input(f\"⚠️ Esto eliminará el keystore '{keystore_file}' de forma permanente.\\n¿Estás seguro? (s/n): \").strip().lower()\n",
        "    if confirm == \"s\":\n",
        "        os.remove(keystore_file)\n",
        "        print(\"✅ Keystore eliminado correctamente.\")\n",
        "    else:\n",
        "        print(\"❎ Operación cancelada.\")\n",
        "\n",
        "# ============================================\n",
        "# Función de ayuda estilo keytool\n",
        "# ============================================\n",
        "def print_help(command=None):\n",
        "    if not command:\n",
        "        print(\"\"\"\n",
        "keeytool [command] [options]\n",
        "\n",
        "Commands:\n",
        "  genkey      Generar un par de claves RSA y guardarlas en un keystore\n",
        "  certreq     Generar un CSR desde un keystore existente\n",
        "  delete      Eliminar el keystore indicado\n",
        "  help        Mostrar esta ayuda\n",
        "Use \"keeytool <command> --help\" for command-specific options.\n",
        "\"\"\")\n",
        "    elif command == \"genkey\":\n",
        "        print(\"\"\"\n",
        "keeytool -genkey [OPTION]...\n",
        "\n",
        "Generates a key pair\n",
        "\n",
        "Options:\n",
        " -alias <alias>        alias name of the entry to process (default: mykey)\n",
        " -keysize <size>       key bit size (default: 2048)\n",
        " -dname <name>         distinguished name (default: CN=<alias>)\n",
        " -keystore <keystore>  keystore name (default: keystore.json)\n",
        " -h, --help            show this help message and exit\n",
        "\"\"\")\n",
        "    elif command == \"certreq\":\n",
        "        print(\"\"\"\n",
        "keeytool -certreq [OPTION]...\n",
        "\n",
        "Generates a Certificate Signing Request (CSR)\n",
        "\n",
        "Options:\n",
        " -alias <alias>        alias name of the entry to process (default: mykey)\n",
        " -keystore <keystore>  keystore name (default: keystore.json)\n",
        " -keypass <arg>        key password (interactive)\n",
        " -storepass <arg>      keystore password (interactive)\n",
        " -out <file>           output file for CSR (default: <alias>.csr.pem)\n",
        " -h, --help            show this help message and exit\n",
        "\"\"\")\n",
        "    elif command == \"delete\":\n",
        "        print(\"\"\"\n",
        "keeytool -delete [OPTION]...\n",
        "\n",
        "Deletes a keystore file\n",
        "\n",
        "Options:\n",
        " -keystore <keystore>  keystore name (default: keystore.json)\n",
        " -h, --help            show this help message and exit\n",
        "\"\"\")\n",
        "\n",
        "# ============================================\n",
        "# CLI principal\n",
        "# ============================================\n",
        "def main():\n",
        "    parser = argparse.ArgumentParser(add_help=False)\n",
        "    parser.add_argument(\"--genkey\", action=\"store_true\")\n",
        "    parser.add_argument(\"--certreq\", action=\"store_true\")\n",
        "    parser.add_argument(\"--delete\", action=\"store_true\")\n",
        "    parser.add_argument(\"--keystore\", default=\"keystore.json\")\n",
        "    parser.add_argument(\"--alias\", default=\"mykey\")\n",
        "    parser.add_argument(\"--keysize\", type=int, default=2048)\n",
        "    parser.add_argument(\"--dname\")\n",
        "    parser.add_argument(\"--out\")\n",
        "    parser.add_argument(\"-h\", \"--help\", action=\"store_true\")\n",
        "\n",
        "    args = parser.parse_args()\n",
        "\n",
        "    # Mostrar ayuda general o de comando específico\n",
        "    if args.help:\n",
        "        if args.genkey:\n",
        "            print_help(\"genkey\")\n",
        "        elif args.certreq:\n",
        "            print_help(\"certreq\")\n",
        "        elif args.delete:\n",
        "            print_help(\"delete\")\n",
        "        else:\n",
        "            print_help()\n",
        "        return\n",
        "\n",
        "    # Ejecutar comandos\n",
        "    if args.genkey:\n",
        "        genkey(args)\n",
        "    elif args.certreq:\n",
        "        certreq(args)\n",
        "    elif args.delete:\n",
        "        delete_keystore(args)\n",
        "    else:\n",
        "        print_help()\n",
        "\n",
        "if __name__ == \"__main__\":\n",
        "    main()\n"
      ]
    },
    {
      "cell_type": "markdown",
      "source": [
        "Comando sin argumentos"
      ],
      "metadata": {
        "id": "zWwzbrwPU49M"
      }
    },
    {
      "cell_type": "code",
      "source": [
        "!python pykeytool.py"
      ],
      "metadata": {
        "colab": {
          "base_uri": "https://localhost:8080/"
        },
        "id": "tg5TWJ3ZaeoU",
        "outputId": "2e2f05be-5b96-42b3-fbcc-2ebf6f5a36c4"
      },
      "execution_count": 5,
      "outputs": [
        {
          "output_type": "stream",
          "name": "stdout",
          "text": [
            "\n",
            "keeytool [command] [options]\n",
            "\n",
            "Commands:\n",
            "  genkey      Generar un par de claves RSA y guardarlas en un keystore\n",
            "  certreq     Generar un CSR desde un keystore existente\n",
            "  delete      Eliminar el keystore indicado\n",
            "  help        Mostrar esta ayuda\n",
            "Use \"keeytool <command> --help\" for command-specific options.\n",
            "\n"
          ]
        }
      ]
    },
    {
      "cell_type": "markdown",
      "source": [
        "Help para comando especifico\n"
      ],
      "metadata": {
        "id": "1xeNyp2mU4WQ"
      }
    },
    {
      "cell_type": "code",
      "source": [
        "!python pykeytool.py --genkey --help"
      ],
      "metadata": {
        "colab": {
          "base_uri": "https://localhost:8080/"
        },
        "id": "XaQQBeW-b1DP",
        "outputId": "e52d4cae-7e0e-438e-cde7-42890103ed18"
      },
      "execution_count": 6,
      "outputs": [
        {
          "output_type": "stream",
          "name": "stdout",
          "text": [
            "\n",
            "keeytool -genkey [OPTION]...\n",
            "\n",
            "Generates a key pair\n",
            "\n",
            "Options:\n",
            " -alias <alias>        alias name of the entry to process (default: mykey)\n",
            " -keysize <size>       key bit size (default: 2048)\n",
            " -dname <name>         distinguished name (default: CN=<alias>)\n",
            " -keystore <keystore>  keystore name (default: keystore.json)\n",
            " -h, --help            show this help message and exit\n",
            "\n"
          ]
        }
      ]
    },
    {
      "cell_type": "markdown",
      "source": [
        "Generar un par de claves"
      ],
      "metadata": {
        "id": "KSYzsiaYhRfn"
      }
    },
    {
      "cell_type": "code",
      "source": [
        "!python pykeytool.py --genkey --keystore my_keystore2.json --alias mykey --dname \"CN=example.com\" --keysize 2048"
      ],
      "metadata": {
        "colab": {
          "base_uri": "https://localhost:8080/"
        },
        "id": "10YjZvYvaY9i",
        "outputId": "1edfbf58-6875-4b58-d1ce-59d1785681b3"
      },
      "execution_count": 9,
      "outputs": [
        {
          "output_type": "stream",
          "name": "stdout",
          "text": [
            "📦 Creando nuevo keystore: 'my_keystore2.json'\n",
            "Crea una contraseña para el keystore: \n",
            "❌ La contraseña debe tener al menos 6 caracteres.\n",
            "\n",
            "Crea una contraseña para el keystore: \n",
            "Vuelve a introducir la contraseña: \n",
            "❌ Las contraseñas no coinciden. Intenta de nuevo.\n",
            "\n",
            "Crea una contraseña para el keystore: Traceback (most recent call last):\n",
            "  File \"/content/pykeytool.py\", line 248, in <module>\n",
            "  File \"/content/pykeytool.py\", line 239, in main\n",
            "    genkey(args)\n",
            "  File \"/content/pykeytool.py\", line 48, in genkey\n",
            "    ks_pass = pedir_contrasena(\"Crea una contraseña para el keystore: \")\n",
            "              ^^^^^^^^^^^^^^^^^^^^^^^^^^^^^^^^^^^^^^^^^^^^^^^^^^^^^^^^^^\n",
            "  File \"/content/pykeytool.py\", line 17, in pedir_contrasena\n",
            "    p1 = getpass(mensaje)\n",
            "         ^^^^^^^^^^^^^^^^\n",
            "  File \"/usr/lib/python3.12/getpass.py\", line 77, in unix_getpass\n",
            "    passwd = _raw_input(prompt, stream, input=input)\n",
            "             ^^^^^^^^^^^^^^^^^^^^^^^^^^^^^^^^^^^^^^^\n",
            "  File \"/usr/lib/python3.12/getpass.py\", line 146, in _raw_input\n",
            "    line = input.readline()\n",
            "           ^^^^^^^^^^^^^^^^\n",
            "KeyboardInterrupt\n",
            "^C\n"
          ]
        }
      ]
    },
    {
      "cell_type": "markdown",
      "source": [
        "Generar la Solicitud de Firma de Certificado (CSR)."
      ],
      "metadata": {
        "id": "MA51AjtK_gsT"
      }
    },
    {
      "cell_type": "code",
      "source": [
        "!python pykeytool.py --certreq --keystore my_keystore.json --alias mykey --out mykey.csr.pem"
      ],
      "metadata": {
        "colab": {
          "base_uri": "https://localhost:8080/"
        },
        "id": "ZT65JHKuaa3j",
        "outputId": "1424a23e-d11a-445c-88cd-0c05d7cbab59"
      },
      "execution_count": 11,
      "outputs": [
        {
          "output_type": "stream",
          "name": "stdout",
          "text": [
            "Introduce la contraseña del keystore: \n",
            "Introduce la contraseña de la clave privada: \n",
            "✅ CSR generado correctamente y guardado en 'mykey.csr.pem'.\n"
          ]
        }
      ]
    },
    {
      "cell_type": "markdown",
      "source": [
        "Borrar el keystore permanentemente"
      ],
      "metadata": {
        "id": "sceaL9y5MjV3"
      }
    },
    {
      "cell_type": "code",
      "source": [
        "!python pykeytool.py --delete --keystore my_keystore.json"
      ],
      "metadata": {
        "colab": {
          "base_uri": "https://localhost:8080/"
        },
        "id": "HTzGBHtGac8C",
        "outputId": "0a422f9e-58f7-45df-8d15-882eb614666a"
      },
      "execution_count": 13,
      "outputs": [
        {
          "output_type": "stream",
          "name": "stdout",
          "text": [
            "⚠️ Esto eliminará el keystore 'my_keystore.json' de forma permanente.\n",
            "¿Estás seguro? (s/n): s\n",
            "✅ Keystore eliminado correctamente.\n"
          ]
        }
      ]
    }
  ]
}